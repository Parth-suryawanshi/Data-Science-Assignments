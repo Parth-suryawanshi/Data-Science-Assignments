{
  "cells": [
    {
      "cell_type": "code",
      "execution_count": null,
      "metadata": {
        "id": "rC7K_0ZeQpAK"
      },
      "outputs": [],
      "source": [
        "# @title Coding Exercise\n",
        "\n"
      ]
    },
    {
      "cell_type": "code",
      "execution_count": null,
      "metadata": {
        "id": "enC-1nbnRJIb"
      },
      "outputs": [],
      "source": [
        "# EX-1: Prime Numbers"
      ]
    },
    {
      "cell_type": "code",
      "execution_count": null,
      "metadata": {
        "colab": {
          "base_uri": "https://localhost:8080/"
        },
        "id": "qc61XerGRgh7",
        "outputId": "2a2597f2-6db6-444a-e39d-e319177e3285"
      },
      "outputs": [
        {
          "name": "stdout",
          "output_type": "stream",
          "text": [
            "Enter a number to check if it's prime: 22\n",
            "22 is not a prime number.\n"
          ]
        }
      ],
      "source": [
        "# This program checks whether a given number is a prime number.\n",
        "\n",
        "def is_prime(num):\n",
        "    if num <= 1:\n",
        "        return False\n",
        "    for i in range(2, int(num ** 0.5) + 1):\n",
        "        if num % i == 0:\n",
        "            return False\n",
        "    return True\n",
        "\n",
        "# Input from user\n",
        "number = int(input(\"Enter a number to check if it's prime: \"))\n",
        "\n",
        "if is_prime(number):\n",
        "    print(f\"{number} is a prime number.\")\n",
        "else:\n",
        "    print(f\"{number} is not a prime number.\")"
      ]
    },
    {
      "cell_type": "code",
      "source": [
        "def is_prime(num):\n",
        "  if num <=1:\n",
        "    return False\n",
        "  for i in range(2,int(num**0.5)+1):\n",
        "    if num% i  ==0:\n",
        "      return False\n",
        "  return True\n",
        "\n",
        "number= int (input(\"Enter a number to check if it's prime:\"))\n",
        "if is_prime(number):\n",
        "  print(f\"{number}is a prime number.\")\n",
        "else:\n",
        "  print(f\"{number}is not a prime number.\")"
      ],
      "metadata": {
        "colab": {
          "base_uri": "https://localhost:8080/"
        },
        "id": "RoktLcUK15tP",
        "outputId": "99edbe89-92d4-43a2-adbf-195883feab9f"
      },
      "execution_count": 1,
      "outputs": [
        {
          "output_type": "stream",
          "name": "stdout",
          "text": [
            "Enter a number to check if it's prime:3\n",
            "3is a prime number.\n"
          ]
        }
      ]
    },
    {
      "cell_type": "code",
      "execution_count": 2,
      "metadata": {
        "id": "CWTDDnLbSsiE"
      },
      "outputs": [],
      "source": [
        "# Exercise 2: Product of Random Numbers\n"
      ]
    },
    {
      "cell_type": "code",
      "source": [
        "import random\n",
        "\n",
        "\n",
        "num1 = random.randint(1, 10)\n",
        "num2 = random.randint(1, 10)\n",
        "\n",
        "\n",
        "print(f\"What is {num1} × {num2}?\")\n",
        "user_answer = int(input(\"Enter your answer: \"))\n",
        "\n",
        "\n",
        "correct_answer = num1 * num2\n",
        "\n",
        "if user_answer == correct_answer:\n",
        "    print(\"Correct! Well done 🎉\")\n",
        "else:\n",
        "    print(f\"Oops! The correct answer was {correct_answer}. Better luck next time!\")"
      ],
      "metadata": {
        "colab": {
          "base_uri": "https://localhost:8080/"
        },
        "id": "ldFxL2AI3q-2",
        "outputId": "85ef44c1-778a-409a-f5a8-6ed3c37ac4b7"
      },
      "execution_count": 7,
      "outputs": [
        {
          "output_type": "stream",
          "name": "stdout",
          "text": [
            "What is 6 × 4?\n",
            "Enter your answer: 24\n",
            "Correct! Well done 🎉\n"
          ]
        }
      ]
    },
    {
      "cell_type": "code",
      "source": [
        "import random\n"
      ],
      "metadata": {
        "id": "nkCOmeQL4iEd"
      },
      "execution_count": 8,
      "outputs": []
    },
    {
      "cell_type": "code",
      "source": [
        "num1=random.randint(1,20)\n",
        "num2=random.randint(1,20)\n",
        "product= num1*num2\n",
        "print(f\"What is {num1} × {num2}?\")\n",
        "user_answer= int(input(\"Enter your answer:\"))\n",
        "correct_answer=num1*num2\n",
        "\n",
        "if user_answer==correct_answer:\n",
        "  print(\"Correct! Well done 🎉\")\n",
        "else:\n",
        "  print(f\"Oops! The correct answer was {correct_answer}. Better luck next time!\")"
      ],
      "metadata": {
        "colab": {
          "base_uri": "https://localhost:8080/"
        },
        "id": "RFmxokvD5Srr",
        "outputId": "93d6c5a9-c106-48c1-f669-7ce99ff8885c"
      },
      "execution_count": 11,
      "outputs": [
        {
          "output_type": "stream",
          "name": "stdout",
          "text": [
            "What is 10 × 3?\n",
            "Enter your answer:29\n",
            "Oops! The correct answer was 30. Better luck next time!\n"
          ]
        }
      ]
    },
    {
      "cell_type": "code",
      "source": [
        "# Exercise 3: Square of Even/Odd Numbers"
      ],
      "metadata": {
        "id": "p2eSBKzF6WAh"
      },
      "execution_count": null,
      "outputs": []
    },
    {
      "cell_type": "code",
      "source": [
        "for number in range(100,201):\n",
        "  if number % 2 == 0:\n",
        "    square=number**2\n",
        "    print(f\"The square of {number} is {square}.\")"
      ],
      "metadata": {
        "colab": {
          "base_uri": "https://localhost:8080/"
        },
        "id": "S7bW-Whp7VlV",
        "outputId": "6cb87b4f-b577-4e85-d166-7fe342eee9a8"
      },
      "execution_count": 12,
      "outputs": [
        {
          "output_type": "stream",
          "name": "stdout",
          "text": [
            "The square of 100 is 10000.\n",
            "The square of 102 is 10404.\n",
            "The square of 104 is 10816.\n",
            "The square of 106 is 11236.\n",
            "The square of 108 is 11664.\n",
            "The square of 110 is 12100.\n",
            "The square of 112 is 12544.\n",
            "The square of 114 is 12996.\n",
            "The square of 116 is 13456.\n",
            "The square of 118 is 13924.\n",
            "The square of 120 is 14400.\n",
            "The square of 122 is 14884.\n",
            "The square of 124 is 15376.\n",
            "The square of 126 is 15876.\n",
            "The square of 128 is 16384.\n",
            "The square of 130 is 16900.\n",
            "The square of 132 is 17424.\n",
            "The square of 134 is 17956.\n",
            "The square of 136 is 18496.\n",
            "The square of 138 is 19044.\n",
            "The square of 140 is 19600.\n",
            "The square of 142 is 20164.\n",
            "The square of 144 is 20736.\n",
            "The square of 146 is 21316.\n",
            "The square of 148 is 21904.\n",
            "The square of 150 is 22500.\n",
            "The square of 152 is 23104.\n",
            "The square of 154 is 23716.\n",
            "The square of 156 is 24336.\n",
            "The square of 158 is 24964.\n",
            "The square of 160 is 25600.\n",
            "The square of 162 is 26244.\n",
            "The square of 164 is 26896.\n",
            "The square of 166 is 27556.\n",
            "The square of 168 is 28224.\n",
            "The square of 170 is 28900.\n",
            "The square of 172 is 29584.\n",
            "The square of 174 is 30276.\n",
            "The square of 176 is 30976.\n",
            "The square of 178 is 31684.\n",
            "The square of 180 is 32400.\n",
            "The square of 182 is 33124.\n",
            "The square of 184 is 33856.\n",
            "The square of 186 is 34596.\n",
            "The square of 188 is 35344.\n",
            "The square of 190 is 36100.\n",
            "The square of 192 is 36864.\n",
            "The square of 194 is 37636.\n",
            "The square of 196 is 38416.\n",
            "The square of 198 is 39204.\n",
            "The square of 200 is 40000.\n"
          ]
        }
      ]
    },
    {
      "cell_type": "code",
      "source": [
        "for number  in range(1,100):\n",
        "  if number % 2 ==0:\n",
        "    square=number**2\n",
        "    print(f\" square of {number} is {square}\")"
      ],
      "metadata": {
        "colab": {
          "base_uri": "https://localhost:8080/"
        },
        "id": "dAud2S8n8DJQ",
        "outputId": "c135049f-f47d-430f-845f-1220f0890bb0"
      },
      "execution_count": 16,
      "outputs": [
        {
          "output_type": "stream",
          "name": "stdout",
          "text": [
            " square of 2 is 4\n",
            " square of 4 is 16\n",
            " square of 6 is 36\n",
            " square of 8 is 64\n",
            " square of 10 is 100\n",
            " square of 12 is 144\n",
            " square of 14 is 196\n",
            " square of 16 is 256\n",
            " square of 18 is 324\n",
            " square of 20 is 400\n",
            " square of 22 is 484\n",
            " square of 24 is 576\n",
            " square of 26 is 676\n",
            " square of 28 is 784\n",
            " square of 30 is 900\n",
            " square of 32 is 1024\n",
            " square of 34 is 1156\n",
            " square of 36 is 1296\n",
            " square of 38 is 1444\n",
            " square of 40 is 1600\n",
            " square of 42 is 1764\n",
            " square of 44 is 1936\n",
            " square of 46 is 2116\n",
            " square of 48 is 2304\n",
            " square of 50 is 2500\n",
            " square of 52 is 2704\n",
            " square of 54 is 2916\n",
            " square of 56 is 3136\n",
            " square of 58 is 3364\n",
            " square of 60 is 3600\n",
            " square of 62 is 3844\n",
            " square of 64 is 4096\n",
            " square of 66 is 4356\n",
            " square of 68 is 4624\n",
            " square of 70 is 4900\n",
            " square of 72 is 5184\n",
            " square of 74 is 5476\n",
            " square of 76 is 5776\n",
            " square of 78 is 6084\n",
            " square of 80 is 6400\n",
            " square of 82 is 6724\n",
            " square of 84 is 7056\n",
            " square of 86 is 7396\n",
            " square of 88 is 7744\n",
            " square of 90 is 8100\n",
            " square of 92 is 8464\n",
            " square of 94 is 8836\n",
            " square of 96 is 9216\n",
            " square of 98 is 9604\n"
          ]
        }
      ]
    },
    {
      "cell_type": "code",
      "source": [
        "# Exercise 4: Count word\n"
      ],
      "metadata": {
        "id": "5XsAUSx28rsJ"
      },
      "execution_count": null,
      "outputs": []
    },
    {
      "cell_type": "code",
      "source": [
        "input_text= \"This is  a sample text. This text will be used to demonstrate the word counter \"\n",
        "words=input_text.split()\n",
        "word_count={}\n",
        "for word in words:\n",
        "   word_counts[word] = word_counts.get(word, 0) + 1\n",
        "for word, count in word_counts.items():\n",
        "    print(f\"'{word}': {count}\")\n",
        ""
      ],
      "metadata": {
        "colab": {
          "base_uri": "https://localhost:8080/"
        },
        "id": "lva9JHXF9SE4",
        "outputId": "2c37923f-2529-4f0e-eae3-c1e51615c6af"
      },
      "execution_count": 22,
      "outputs": [
        {
          "output_type": "stream",
          "name": "stdout",
          "text": [
            "'This': 4\n",
            "'is': 2\n",
            "'a': 2\n",
            "'sample': 2\n",
            "'text.': 2\n",
            "'text': 2\n",
            "'will': 2\n",
            "'be': 2\n",
            "'used': 2\n",
            "'to': 2\n",
            "'demonstrate': 2\n",
            "'the': 2\n",
            "'word': 2\n",
            "'counter.': 1\n",
            "'counter': 1\n"
          ]
        }
      ]
    },
    {
      "cell_type": "code",
      "source": [
        "# Exercise 5: Check for Palindrome\n"
      ],
      "metadata": {
        "id": "kPigz27o-Fh_"
      },
      "execution_count": null,
      "outputs": []
    },
    {
      "cell_type": "code",
      "source": [
        "def is_palindrome(s):\n",
        "    import re\n",
        "    cleaned = re.sub(r'[^A-Za-z0-9]', '', s).lower()\n",
        "    return cleaned == cleaned[::-1]\n",
        "\n",
        "\n",
        "example_input=\"racecar\"\n",
        "result=is_palindrome(example_input)\n",
        "print(f\"Is'{example_input}'a palindrome?{result}\")"
      ],
      "metadata": {
        "colab": {
          "base_uri": "https://localhost:8080/"
        },
        "id": "8vZ2GHPv_9kx",
        "outputId": "194b21ec-6a75-48ec-df33-75194dccd355"
      },
      "execution_count": 27,
      "outputs": [
        {
          "output_type": "stream",
          "name": "stdout",
          "text": [
            "Is'racecar'a palindrome?True\n"
          ]
        }
      ]
    }
  ],
  "metadata": {
    "colab": {
      "provenance": []
    },
    "kernelspec": {
      "display_name": "Python 3",
      "name": "python3"
    },
    "language_info": {
      "name": "python"
    }
  },
  "nbformat": 4,
  "nbformat_minor": 0
}