{
  "nbformat": 4,
  "nbformat_minor": 0,
  "metadata": {
    "colab": {
      "provenance": []
    },
    "kernelspec": {
      "name": "python3",
      "display_name": "Python 3"
    },
    "language_info": {
      "name": "python"
    }
  },
  "cells": [
    {
      "cell_type": "code",
      "execution_count": null,
      "metadata": {
        "id": "417TxrqPfKHt"
      },
      "outputs": [],
      "source": [
        "# Hypothesis testing"
      ]
    },
    {
      "cell_type": "code",
      "source": [
        "import pandas as pd\n",
        "import numpy as np\n",
        "from scipy import stats"
      ],
      "metadata": {
        "id": "HAIEr2DWgYRg"
      },
      "execution_count": 1,
      "outputs": []
    },
    {
      "cell_type": "code",
      "source": [
        "# Hypothesis testing setup for weekly operating costs\n",
        "\n",
        "# Null Hypothesis (H0): Mean weekly cost is equal to model prediction (4000)\n",
        "# Alternative Hypothesis (H1): Mean weekly cost is greater than model prediction\n",
        "\n",
        "mu_0 = 4000         # Theoretical mean from the cost model\n",
        "sample_mean = 3050  # Observed mean weekly cost from sample\n",
        "alpha = 0.05        # Significance level for one-tailed test\n",
        "n= 25\n",
        "print(f\"H₀: μ = {mu_0}\")\n",
        "print(f\"H₁: μ > {mu_0}\")"
      ],
      "metadata": {
        "colab": {
          "base_uri": "https://localhost:8080/"
        },
        "id": "sffCY4WFY3du",
        "outputId": "e80bcfb1-c914-4aa1-a44b-e2ffe82fed64"
      },
      "execution_count": 10,
      "outputs": [
        {
          "output_type": "stream",
          "name": "stdout",
          "text": [
            "H₀: μ = 4000\n",
            "H₁: μ > 4000\n"
          ]
        }
      ]
    },
    {
      "cell_type": "code",
      "source": [
        "(stats.t.cdf(-38,df=24))"
      ],
      "metadata": {
        "id": "CvM9HZ2-lU-t",
        "colab": {
          "base_uri": "https://localhost:8080/"
        },
        "outputId": "ec1622df-e1e6-492a-a507-2eea60256a9a"
      },
      "execution_count": 21,
      "outputs": [
        {
          "output_type": "execute_result",
          "data": {
            "text/plain": [
              "np.float64(2.9607810808177907e-23)"
            ]
          },
          "metadata": {},
          "execution_count": 21
        }
      ]
    },
    {
      "cell_type": "code",
      "source": [
        "from scipy.stats import norm\n",
        "\n",
        "alpha = 0.05\n",
        "# For a one-tailed test (right side), use 1 - alpha\n",
        "critical_value = norm.ppf(1 - alpha)\n",
        "\n",
        "print(f\"Critical Z-value at α = 0.05: {critical_value:.3f}\")"
      ],
      "metadata": {
        "colab": {
          "base_uri": "https://localhost:8080/"
        },
        "id": "peDasXuLcQuP",
        "outputId": "5039b7ce-eca6-403a-d2bb-8c4255dfda82"
      },
      "execution_count": 19,
      "outputs": [
        {
          "output_type": "stream",
          "name": "stdout",
          "text": [
            "Critical Z-value at α = 0.05: 1.645\n"
          ]
        }
      ]
    },
    {
      "cell_type": "code",
      "source": [
        "# Given values\n",
        "t_statistic = -38\n",
        "critical_value = 1.645  # For one-tailed test at alpha = 0.05\n",
        "\n",
        "# Decision step\n",
        "if t_statistic > critical_value:\n",
        "    print(\"Reject the null hypothesis: There is evidence of increased weekly cost.\")\n",
        "else:\n",
        "    print(\"Fail to reject the null hypothesis: No evidence of increased weekly cost.\")"
      ],
      "metadata": {
        "colab": {
          "base_uri": "https://localhost:8080/"
        },
        "id": "1RNcjOtndBWp",
        "outputId": "54948ea5-9881-4dd3-a821-562d02d498a2"
      },
      "execution_count": 23,
      "outputs": [
        {
          "output_type": "stream",
          "name": "stdout",
          "text": [
            "Fail to reject the null hypothesis: No evidence of increased weekly cost.\n"
          ]
        }
      ]
    },
    {
      "cell_type": "code",
      "source": [
        "# Given values\n",
        "t_statistic = -38\n",
        "critical_value = 1.645  # For one-tailed test at alpha = 0.05\n",
        "\n",
        "# Step 5: Conclusion\n",
        "if t_statistic > critical_value:\n",
        "    print(\"Conclusion: Reject the null hypothesis.\")\n",
        "    print(\"There is strong evidence that weekly operating costs are higher than the model suggests.\")\n",
        "else:\n",
        "    print(\"Conclusion: Fail to reject the null hypothesis.\")\n",
        "    print(\"There is no strong evidence that weekly operating costs are higher than the model suggests.\")"
      ],
      "metadata": {
        "colab": {
          "base_uri": "https://localhost:8080/"
        },
        "id": "AqSCsmGdfe-p",
        "outputId": "4462f22e-2579-4cdd-82bd-01f48af91129"
      },
      "execution_count": 24,
      "outputs": [
        {
          "output_type": "stream",
          "name": "stdout",
          "text": [
            "Conclusion: Fail to reject the null hypothesis.\n",
            "There is no strong evidence that weekly operating costs are higher than the model suggests.\n"
          ]
        }
      ]
    },
    {
      "cell_type": "code",
      "source": [
        "\"\"\"\n",
        "Hypothesis Test: Investigating Increase in Weekly Operating Costs\n",
        "Author: Parth Suryawanshi\n",
        "Date: [28 june 2025]\n",
        "\n",
        "Objective:\n",
        "To determine whether the weekly operating costs of Bombay Hospitality Ltd. are significantly higher than the theoretical model predicts.\n",
        "\"\"\"\n",
        "\n",
        "import math\n",
        "from scipy.stats import norm\n",
        "\n",
        "# Step 1: Define Known Values\n",
        "sample_mean = 3050       # Mean cost from a sample of 25 restaurants\n",
        "mu = 4000                # Expected cost from the model: W = 1000 + 5*600\n",
        "sigma = 125              # Given: sigma = 5 * 25 units\n",
        "n = 25                   # Sample size\n",
        "alpha = 0.05             # Significance level for one-tailed test\n",
        "\n",
        "# Step 2: Calculate the Test Statistic (t)\n",
        "standard_error = sigma / math.sqrt(n)\n",
        "t_statistic = (sample_mean - mu) / standard_error\n",
        "print(f\"Step 2: Test Statistic (t) = {t_statistic:.2f}\")\n",
        "\n",
        "# Step 3: Determine the Critical Value from the Z-distribution\n",
        "critical_value = norm.ppf(1 - alpha)\n",
        "print(f\"Step 3: Critical Z-value at α = 0.05 = {critical_value:.3f}\")\n",
        "\n",
        "# Step 4: Make a Decision\n",
        "print(\"Step 4: Decision:\")\n",
        "if t_statistic > critical_value:\n",
        "    print(\"Reject the null hypothesis: There is strong evidence of increased weekly cost.\")\n",
        "else:\n",
        "    print(\"Fail to reject the null hypothesis: No strong evidence of increased weekly cost.\")\n",
        "\n",
        "# Step 5: Conclusion\n",
        "print(\"\\nStep 5: Conclusion:\")\n",
        "print(\"The test statistic is significantly less than the critical value.\")\n",
        "print(\"Conclusion: Based on the sample data, we do not have sufficient evidence to support the claim that operating costs have increased.\")"
      ],
      "metadata": {
        "colab": {
          "base_uri": "https://localhost:8080/"
        },
        "id": "e32eaWzAgVcJ",
        "outputId": "cdef5491-d8c2-485f-cc81-6efaaa6f700f"
      },
      "execution_count": 25,
      "outputs": [
        {
          "output_type": "stream",
          "name": "stdout",
          "text": [
            "Step 2: Test Statistic (t) = -38.00\n",
            "Step 3: Critical Z-value at α = 0.05 = 1.645\n",
            "Step 4: Decision:\n",
            "Fail to reject the null hypothesis: No strong evidence of increased weekly cost.\n",
            "\n",
            "Step 5: Conclusion:\n",
            "The test statistic is significantly less than the critical value.\n",
            "Conclusion: Based on the sample data, we do not have sufficient evidence to support the claim that operating costs have increased.\n"
          ]
        }
      ]
    }
  ]
}